{
  "nbformat": 4,
  "nbformat_minor": 0,
  "metadata": {
    "colab": {
      "name": "CNN - MNIST Fashion Image Classification.ipynb",
      "provenance": [],
      "collapsed_sections": [],
      "authorship_tag": "ABX9TyO8XORuAlSSD9Q35JB+Akmb"
    },
    "kernelspec": {
      "name": "python3",
      "display_name": "Python 3"
    },
    "accelerator": "GPU"
  },
  "cells": [
    {
      "cell_type": "code",
      "metadata": {
        "id": "n9VMqeP01aZI"
      },
      "source": [
        "import pandas as pd\n",
        "import numpy as np\n",
        "import matplotlib.pyplot as plt\n",
        "import seaborn as sns\n"
      ],
      "execution_count": null,
      "outputs": []
    },
    {
      "cell_type": "markdown",
      "metadata": {
        "id": "8MWsjEkK2QUZ"
      },
      "source": [
        "FASHION MNIST CNN ANALYSIS Lable Description\n",
        "\n",
        "\n",
        "0.   T-shirt/top\n",
        "1.   Trouser\n",
        "2.   Pullover\n",
        "3.   Dress\n",
        "4.   Coat\n",
        "5.   Sandal\n",
        "6.   Shirt\n",
        "7.   Sneaker\n",
        "8.   Bag\n",
        "9.   Ankie boot\n",
        "\n"
      ]
    },
    {
      "cell_type": "code",
      "metadata": {
        "id": "FF5b6PeF2LOC"
      },
      "source": [
        "import keras\n",
        "from keras.datasets import fashion_mnist"
      ],
      "execution_count": null,
      "outputs": []
    },
    {
      "cell_type": "code",
      "metadata": {
        "id": "WBAPh-ml2274",
        "colab": {
          "base_uri": "https://localhost:8080/",
          "height": 173
        },
        "outputId": "0943ad53-44a3-4067-dd00-d829aad4850d"
      },
      "source": [
        "# Load the fashion-mnist data\n",
        "(x_train, y_train), (x_test, y_test) = fashion_mnist.load_data()"
      ],
      "execution_count": null,
      "outputs": [
        {
          "output_type": "stream",
          "text": [
            "Downloading data from https://storage.googleapis.com/tensorflow/tf-keras-datasets/train-labels-idx1-ubyte.gz\n",
            "32768/29515 [=================================] - 0s 0us/step\n",
            "Downloading data from https://storage.googleapis.com/tensorflow/tf-keras-datasets/train-images-idx3-ubyte.gz\n",
            "26427392/26421880 [==============================] - 1s 0us/step\n",
            "Downloading data from https://storage.googleapis.com/tensorflow/tf-keras-datasets/t10k-labels-idx1-ubyte.gz\n",
            "8192/5148 [===============================================] - 0s 0us/step\n",
            "Downloading data from https://storage.googleapis.com/tensorflow/tf-keras-datasets/t10k-images-idx3-ubyte.gz\n",
            "4423680/4422102 [==============================] - 0s 0us/step\n"
          ],
          "name": "stdout"
        }
      ]
    },
    {
      "cell_type": "code",
      "metadata": {
        "id": "hJgLdvLH3Si4",
        "colab": {
          "base_uri": "https://localhost:8080/",
          "height": 34
        },
        "outputId": "8d472372-4e4b-4998-93d0-a3c79a176c1f"
      },
      "source": [
        "x_train.shape"
      ],
      "execution_count": null,
      "outputs": [
        {
          "output_type": "execute_result",
          "data": {
            "text/plain": [
              "(60000, 28, 28)"
            ]
          },
          "metadata": {
            "tags": []
          },
          "execution_count": 5
        }
      ]
    },
    {
      "cell_type": "code",
      "metadata": {
        "id": "QRAUuN7P3UZn",
        "colab": {
          "base_uri": "https://localhost:8080/",
          "height": 34
        },
        "outputId": "f927ea0e-547f-4cd3-8fb2-827ab2071152"
      },
      "source": [
        "x_test.shape"
      ],
      "execution_count": null,
      "outputs": [
        {
          "output_type": "execute_result",
          "data": {
            "text/plain": [
              "(10000, 28, 28)"
            ]
          },
          "metadata": {
            "tags": []
          },
          "execution_count": 6
        }
      ]
    },
    {
      "cell_type": "code",
      "metadata": {
        "id": "QODTC_FH3V4E",
        "colab": {
          "base_uri": "https://localhost:8080/",
          "height": 1000
        },
        "outputId": "ef3ce5d4-46db-459a-88d7-5a5277d7484c"
      },
      "source": [
        "x_train[1]"
      ],
      "execution_count": null,
      "outputs": [
        {
          "output_type": "execute_result",
          "data": {
            "text/plain": [
              "array([[  0,   0,   0,   0,   0,   1,   0,   0,   0,   0,  41, 188, 103,\n",
              "         54,  48,  43,  87, 168, 133,  16,   0,   0,   0,   0,   0,   0,\n",
              "          0,   0],\n",
              "       [  0,   0,   0,   1,   0,   0,   0,  49, 136, 219, 216, 228, 236,\n",
              "        255, 255, 255, 255, 217, 215, 254, 231, 160,  45,   0,   0,   0,\n",
              "          0,   0],\n",
              "       [  0,   0,   0,   0,   0,  14, 176, 222, 224, 212, 203, 198, 196,\n",
              "        200, 215, 204, 202, 201, 201, 201, 209, 218, 224, 164,   0,   0,\n",
              "          0,   0],\n",
              "       [  0,   0,   0,   0,   0, 188, 219, 200, 198, 202, 198, 199, 199,\n",
              "        201, 196, 198, 198, 200, 200, 200, 200, 201, 200, 225,  41,   0,\n",
              "          0,   0],\n",
              "       [  0,   0,   0,   0,  51, 219, 199, 203, 203, 212, 238, 248, 250,\n",
              "        245, 249, 246, 247, 252, 248, 235, 207, 203, 203, 222, 140,   0,\n",
              "          0,   0],\n",
              "       [  0,   0,   0,   0, 116, 226, 206, 204, 207, 204, 101,  75,  47,\n",
              "         73,  48,  50,  45,  51,  63, 113, 222, 202, 206, 220, 224,   0,\n",
              "          0,   0],\n",
              "       [  0,   0,   0,   0, 200, 222, 209, 203, 215, 200,   0,  70,  98,\n",
              "          0, 103,  59,  68,  71,  49,   0, 219, 206, 214, 210, 250,  38,\n",
              "          0,   0],\n",
              "       [  0,   0,   0,   0, 247, 218, 212, 210, 215, 214,   0, 254, 243,\n",
              "        139, 255, 174, 251, 255, 205,   0, 215, 217, 214, 208, 220,  95,\n",
              "          0,   0],\n",
              "       [  0,   0,   0,  45, 226, 214, 214, 215, 224, 205,   0,  42,  35,\n",
              "         60,  16,  17,  12,  13,  70,   0, 189, 216, 212, 206, 212, 156,\n",
              "          0,   0],\n",
              "       [  0,   0,   0, 164, 235, 214, 211, 220, 216, 201,  52,  71,  89,\n",
              "         94,  83,  78,  70,  76,  92,  87, 206, 207, 222, 213, 219, 208,\n",
              "          0,   0],\n",
              "       [  0,   0,   0, 106, 187, 223, 237, 248, 211, 198, 252, 250, 248,\n",
              "        245, 248, 252, 253, 250, 252, 239, 201, 212, 225, 215, 193, 113,\n",
              "          0,   0],\n",
              "       [  0,   0,   0,   0,   0,  17,  54, 159, 222, 193, 208, 192, 197,\n",
              "        200, 200, 200, 200, 201, 203, 195, 210, 165,   0,   0,   0,   0,\n",
              "          0,   0],\n",
              "       [  0,   0,   0,   0,   0,   0,   0,  47, 225, 192, 214, 203, 206,\n",
              "        204, 204, 205, 206, 204, 212, 197, 218, 107,   0,   0,   0,   0,\n",
              "          0,   0],\n",
              "       [  0,   0,   0,   0,   1,   6,   0,  46, 212, 195, 212, 202, 206,\n",
              "        205, 204, 205, 206, 204, 212, 200, 218,  91,   0,   3,   1,   0,\n",
              "          0,   0],\n",
              "       [  0,   0,   0,   0,   0,   1,   0,  11, 197, 199, 205, 202, 205,\n",
              "        206, 204, 205, 207, 204, 205, 205, 218,  77,   0,   5,   0,   0,\n",
              "          0,   0],\n",
              "       [  0,   0,   0,   0,   0,   3,   0,   2, 191, 198, 201, 205, 206,\n",
              "        205, 205, 206, 209, 206, 199, 209, 219,  74,   0,   5,   0,   0,\n",
              "          0,   0],\n",
              "       [  0,   0,   0,   0,   0,   2,   0,   0, 188, 197, 200, 207, 207,\n",
              "        204, 207, 207, 210, 208, 198, 207, 221,  72,   0,   4,   0,   0,\n",
              "          0,   0],\n",
              "       [  0,   0,   0,   0,   0,   2,   0,   0, 215, 198, 203, 206, 208,\n",
              "        205, 207, 207, 210, 208, 200, 202, 222,  75,   0,   4,   0,   0,\n",
              "          0,   0],\n",
              "       [  0,   0,   0,   0,   0,   1,   0,   0, 212, 198, 209, 206, 209,\n",
              "        206, 208, 207, 211, 206, 205, 198, 221,  80,   0,   3,   0,   0,\n",
              "          0,   0],\n",
              "       [  0,   0,   0,   0,   0,   1,   0,   0, 204, 201, 205, 208, 207,\n",
              "        205, 211, 205, 210, 210, 209, 195, 221,  96,   0,   3,   0,   0,\n",
              "          0,   0],\n",
              "       [  0,   0,   0,   0,   0,   1,   0,   0, 202, 201, 205, 209, 207,\n",
              "        205, 213, 206, 210, 209, 210, 194, 217, 105,   0,   2,   0,   0,\n",
              "          0,   0],\n",
              "       [  0,   0,   0,   0,   0,   1,   0,   0, 204, 204, 205, 208, 207,\n",
              "        205, 215, 207, 210, 208, 211, 193, 213, 115,   0,   2,   0,   0,\n",
              "          0,   0],\n",
              "       [  0,   0,   0,   0,   0,   0,   0,   0, 204, 207, 207, 208, 206,\n",
              "        206, 215, 210, 210, 207, 212, 195, 210, 118,   0,   2,   0,   0,\n",
              "          0,   0],\n",
              "       [  0,   0,   0,   0,   0,   1,   0,   0, 198, 208, 208, 208, 204,\n",
              "        207, 212, 212, 210, 207, 211, 196, 207, 121,   0,   1,   0,   0,\n",
              "          0,   0],\n",
              "       [  0,   0,   0,   0,   0,   1,   0,   0, 198, 210, 207, 208, 206,\n",
              "        209, 213, 212, 211, 207, 210, 197, 207, 124,   0,   1,   0,   0,\n",
              "          0,   0],\n",
              "       [  0,   0,   0,   0,   0,   0,   0,   0, 172, 210, 203, 201, 199,\n",
              "        204, 207, 205, 204, 201, 205, 197, 206, 127,   0,   0,   0,   0,\n",
              "          0,   0],\n",
              "       [  0,   0,   0,   0,   0,   0,   0,   0, 188, 221, 214, 234, 236,\n",
              "        238, 244, 244, 244, 240, 243, 214, 224, 162,   0,   2,   0,   0,\n",
              "          0,   0],\n",
              "       [  0,   0,   0,   0,   0,   1,   0,   0, 139, 146, 130, 135, 135,\n",
              "        137, 125, 124, 125, 121, 119, 114, 130,  76,   0,   0,   0,   0,\n",
              "          0,   0]], dtype=uint8)"
            ]
          },
          "metadata": {
            "tags": []
          },
          "execution_count": 7
        }
      ]
    },
    {
      "cell_type": "code",
      "metadata": {
        "id": "zQNSUk-h3gTz",
        "colab": {
          "base_uri": "https://localhost:8080/",
          "height": 281
        },
        "outputId": "f9d74a98-b7b6-4b54-aa17-707c685359b6"
      },
      "source": [
        "plt.imshow(np.reshape(x_train[1], (28,28)), cmap='gray')\n",
        "plt.title('Label: %i' %y_train[1])\n",
        "plt.show()"
      ],
      "execution_count": null,
      "outputs": [
        {
          "output_type": "display_data",
          "data": {
            "image/png": "[encoded data removed]",
            "text/plain": [
              "<Figure size 432x288 with 1 Axes>"
            ]
          },
          "metadata": {
            "tags": [],
            "needs_background": "light"
          }
        }
      ]
    },
    {
      "cell_type": "code",
      "metadata": {
        "id": "y4b6D82m4HEm",
        "colab": {
          "base_uri": "https://localhost:8080/",
          "height": 281
        },
        "outputId": "f29dee48-9309-4e83-c397-ccb210159ae9"
      },
      "source": [
        "plt.imshow(np.reshape(x_train[59], (28,28)), cmap='gray')\n",
        "plt.title('Label: %i' %y_train[59])\n",
        "plt.show()"
      ],
      "execution_count": null,
      "outputs": [
        {
          "output_type": "display_data",
          "data": {
            "image/png": "[encoded data removed]",
            "text/plain": [
              "<Figure size 432x288 with 1 Axes>"
            ]
          },
          "metadata": {
            "tags": [],
            "needs_background": "light"
          }
        }
      ]
    },
    {
      "cell_type": "code",
      "metadata": {
        "id": "dsjwYgHh4u71",
        "colab": {
          "base_uri": "https://localhost:8080/",
          "height": 34
        },
        "outputId": "0960f45b-37dc-4fe8-d7cc-fe51668b06cf"
      },
      "source": [
        "y_train[0:10]"
      ],
      "execution_count": null,
      "outputs": [
        {
          "output_type": "execute_result",
          "data": {
            "text/plain": [
              "array([9, 0, 0, 3, 0, 2, 7, 2, 5, 5], dtype=uint8)"
            ]
          },
          "metadata": {
            "tags": []
          },
          "execution_count": 10
        }
      ]
    },
    {
      "cell_type": "code",
      "metadata": {
        "id": "C7A2iDep5RLV"
      },
      "source": [
        "# Define Labels\n",
        "fashion_labels = ['T-shirt/top'\n",
        ",'Trouser'\n",
        ",'Pullover'\n",
        ",'Dress'\n",
        ",'Coat'\n",
        ",'Sandal'\n",
        ",'Shirt'\n",
        ",'Sneaker'\n",
        ",'Bag'\n",
        ",'Ankie boot']\n"
      ],
      "execution_count": null,
      "outputs": []
    },
    {
      "cell_type": "markdown",
      "metadata": {
        "id": "tP5x5qcd6ZNp"
      },
      "source": [
        "**Processing Image**"
      ]
    },
    {
      "cell_type": "code",
      "metadata": {
        "id": "YQQ89Cdr6Xfp"
      },
      "source": [
        "# Image pixel normalization\n",
        "x_train = x_train.astype('float32')/255"
      ],
      "execution_count": null,
      "outputs": []
    },
    {
      "cell_type": "code",
      "metadata": {
        "id": "khuoUtZa6xHr"
      },
      "source": [
        "x_test = x_test.astype('float32')/255"
      ],
      "execution_count": null,
      "outputs": []
    },
    {
      "cell_type": "code",
      "metadata": {
        "id": "TdZXn1AW61t3",
        "colab": {
          "base_uri": "https://localhost:8080/",
          "height": 1000
        },
        "outputId": "8a2b9e9e-7682-4f71-b968-ddbb5c27de99"
      },
      "source": [
        "x_train[0]"
      ],
      "execution_count": null,
      "outputs": [
        {
          "output_type": "execute_result",
          "data": {
            "text/plain": [
              "array([[0.        , 0.        , 0.        , 0.        , 0.        ,\n",
              "        0.        , 0.        , 0.        , 0.        , 0.        ,\n",
              "        0.        , 0.        , 0.        , 0.        , 0.        ,\n",
              "        0.        , 0.        , 0.        , 0.        , 0.        ,\n",
              "        0.        , 0.        , 0.        , 0.        , 0.        ,\n",
              "        0.        , 0.        , 0.        ],\n",
              "       [0.        , 0.        , 0.        , 0.        , 0.        ,\n",
              "        0.        , 0.        , 0.        , 0.        , 0.        ,\n",
              "        0.        , 0.        , 0.        , 0.        , 0.        ,\n",
              "        0.        , 0.        , 0.        , 0.        , 0.        ,\n",
              "        0.        , 0.        , 0.        , 0.        , 0.        ,\n",
              "        0.        , 0.        , 0.        ],\n",
              "       [0.        , 0.        , 0.        , 0.        , 0.        ,\n",
              "        0.        , 0.        , 0.        , 0.        , 0.        ,\n",
              "        0.        , 0.        , 0.        , 0.        , 0.        ,\n",
              "        0.        , 0.        , 0.        , 0.        , 0.        ,\n",
              "        0.        , 0.        , 0.        , 0.        , 0.        ,\n",
              "        0.        , 0.        , 0.        ],\n",
              "       [0.        , 0.        , 0.        , 0.        , 0.        ,\n",
              "        0.        , 0.        , 0.        , 0.        , 0.        ,\n",
              "        0.        , 0.        , 0.00392157, 0.        , 0.        ,\n",
              "        0.05098039, 0.28627452, 0.        , 0.        , 0.00392157,\n",
              "        0.01568628, 0.        , 0.        , 0.        , 0.        ,\n",
              "        0.00392157, 0.00392157, 0.        ],\n",
              "       [0.        , 0.        , 0.        , 0.        , 0.        ,\n",
              "        0.        , 0.        , 0.        , 0.        , 0.        ,\n",
              "        0.        , 0.        , 0.01176471, 0.        , 0.14117648,\n",
              "        0.53333336, 0.49803922, 0.24313726, 0.21176471, 0.        ,\n",
              "        0.        , 0.        , 0.00392157, 0.01176471, 0.01568628,\n",
              "        0.        , 0.        , 0.01176471],\n",
              "       [0.        , 0.        , 0.        , 0.        , 0.        ,\n",
              "        0.        , 0.        , 0.        , 0.        , 0.        ,\n",
              "        0.        , 0.        , 0.02352941, 0.        , 0.4       ,\n",
              "        0.8       , 0.6901961 , 0.5254902 , 0.5647059 , 0.48235294,\n",
              "        0.09019608, 0.        , 0.        , 0.        , 0.        ,\n",
              "        0.04705882, 0.03921569, 0.        ],\n",
              "       [0.        , 0.        , 0.        , 0.        , 0.        ,\n",
              "        0.        , 0.        , 0.        , 0.        , 0.        ,\n",
              "        0.        , 0.        , 0.        , 0.        , 0.60784316,\n",
              "        0.9254902 , 0.8117647 , 0.69803923, 0.41960785, 0.6117647 ,\n",
              "        0.6313726 , 0.42745098, 0.2509804 , 0.09019608, 0.3019608 ,\n",
              "        0.50980395, 0.28235295, 0.05882353],\n",
              "       [0.        , 0.        , 0.        , 0.        , 0.        ,\n",
              "        0.        , 0.        , 0.        , 0.        , 0.        ,\n",
              "        0.        , 0.00392157, 0.        , 0.27058825, 0.8117647 ,\n",
              "        0.8745098 , 0.85490197, 0.84705883, 0.84705883, 0.6392157 ,\n",
              "        0.49803922, 0.4745098 , 0.47843137, 0.57254905, 0.5529412 ,\n",
              "        0.34509805, 0.6745098 , 0.25882354],\n",
              "       [0.        , 0.        , 0.        , 0.        , 0.        ,\n",
              "        0.        , 0.        , 0.        , 0.        , 0.00392157,\n",
              "        0.00392157, 0.00392157, 0.        , 0.78431374, 0.9098039 ,\n",
              "        0.9098039 , 0.9137255 , 0.8980392 , 0.8745098 , 0.8745098 ,\n",
              "        0.84313726, 0.8352941 , 0.6431373 , 0.49803922, 0.48235294,\n",
              "        0.76862746, 0.8980392 , 0.        ],\n",
              "       [0.        , 0.        , 0.        , 0.        , 0.        ,\n",
              "        0.        , 0.        , 0.        , 0.        , 0.        ,\n",
              "        0.        , 0.        , 0.        , 0.7176471 , 0.88235295,\n",
              "        0.84705883, 0.8745098 , 0.89411765, 0.92156863, 0.8901961 ,\n",
              "        0.8784314 , 0.87058824, 0.8784314 , 0.8666667 , 0.8745098 ,\n",
              "        0.9607843 , 0.6784314 , 0.        ],\n",
              "       [0.        , 0.        , 0.        , 0.        , 0.        ,\n",
              "        0.        , 0.        , 0.        , 0.        , 0.        ,\n",
              "        0.        , 0.        , 0.        , 0.75686276, 0.89411765,\n",
              "        0.85490197, 0.8352941 , 0.7764706 , 0.7058824 , 0.83137256,\n",
              "        0.8235294 , 0.827451  , 0.8352941 , 0.8745098 , 0.8627451 ,\n",
              "        0.9529412 , 0.7921569 , 0.        ],\n",
              "       [0.        , 0.        , 0.        , 0.        , 0.        ,\n",
              "        0.        , 0.        , 0.        , 0.        , 0.00392157,\n",
              "        0.01176471, 0.        , 0.04705882, 0.85882354, 0.8627451 ,\n",
              "        0.83137256, 0.85490197, 0.7529412 , 0.6627451 , 0.8901961 ,\n",
              "        0.8156863 , 0.85490197, 0.8784314 , 0.83137256, 0.8862745 ,\n",
              "        0.77254903, 0.81960785, 0.20392157],\n",
              "       [0.        , 0.        , 0.        , 0.        , 0.        ,\n",
              "        0.        , 0.        , 0.        , 0.        , 0.        ,\n",
              "        0.02352941, 0.        , 0.3882353 , 0.95686275, 0.87058824,\n",
              "        0.8627451 , 0.85490197, 0.79607844, 0.7764706 , 0.8666667 ,\n",
              "        0.84313726, 0.8352941 , 0.87058824, 0.8627451 , 0.9607843 ,\n",
              "        0.46666667, 0.654902  , 0.21960784],\n",
              "       [0.        , 0.        , 0.        , 0.        , 0.        ,\n",
              "        0.        , 0.        , 0.        , 0.        , 0.01568628,\n",
              "        0.        , 0.        , 0.21568628, 0.9254902 , 0.89411765,\n",
              "        0.9019608 , 0.89411765, 0.9411765 , 0.9098039 , 0.8352941 ,\n",
              "        0.85490197, 0.8745098 , 0.91764706, 0.8509804 , 0.8509804 ,\n",
              "        0.81960785, 0.36078432, 0.        ],\n",
              "       [0.        , 0.        , 0.00392157, 0.01568628, 0.02352941,\n",
              "        0.02745098, 0.00784314, 0.        , 0.        , 0.        ,\n",
              "        0.        , 0.        , 0.92941177, 0.8862745 , 0.8509804 ,\n",
              "        0.8745098 , 0.87058824, 0.85882354, 0.87058824, 0.8666667 ,\n",
              "        0.84705883, 0.8745098 , 0.8980392 , 0.84313726, 0.85490197,\n",
              "        1.        , 0.3019608 , 0.        ],\n",
              "       [0.        , 0.01176471, 0.        , 0.        , 0.        ,\n",
              "        0.        , 0.        , 0.        , 0.        , 0.24313726,\n",
              "        0.5686275 , 0.8       , 0.89411765, 0.8117647 , 0.8352941 ,\n",
              "        0.8666667 , 0.85490197, 0.8156863 , 0.827451  , 0.85490197,\n",
              "        0.8784314 , 0.8745098 , 0.85882354, 0.84313726, 0.8784314 ,\n",
              "        0.95686275, 0.62352943, 0.        ],\n",
              "       [0.        , 0.        , 0.        , 0.        , 0.07058824,\n",
              "        0.17254902, 0.32156864, 0.41960785, 0.7411765 , 0.89411765,\n",
              "        0.8627451 , 0.87058824, 0.8509804 , 0.8862745 , 0.78431374,\n",
              "        0.8039216 , 0.827451  , 0.9019608 , 0.8784314 , 0.91764706,\n",
              "        0.6901961 , 0.7372549 , 0.98039216, 0.972549  , 0.9137255 ,\n",
              "        0.93333334, 0.84313726, 0.        ],\n",
              "       [0.        , 0.22352941, 0.73333335, 0.8156863 , 0.8784314 ,\n",
              "        0.8666667 , 0.8784314 , 0.8156863 , 0.8       , 0.8392157 ,\n",
              "        0.8156863 , 0.81960785, 0.78431374, 0.62352943, 0.9607843 ,\n",
              "        0.75686276, 0.80784315, 0.8745098 , 1.        , 1.        ,\n",
              "        0.8666667 , 0.91764706, 0.8666667 , 0.827451  , 0.8627451 ,\n",
              "        0.9098039 , 0.9647059 , 0.        ],\n",
              "       [0.01176471, 0.7921569 , 0.89411765, 0.8784314 , 0.8666667 ,\n",
              "        0.827451  , 0.827451  , 0.8392157 , 0.8039216 , 0.8039216 ,\n",
              "        0.8039216 , 0.8627451 , 0.9411765 , 0.3137255 , 0.5882353 ,\n",
              "        1.        , 0.8980392 , 0.8666667 , 0.7372549 , 0.6039216 ,\n",
              "        0.7490196 , 0.8235294 , 0.8       , 0.81960785, 0.87058824,\n",
              "        0.89411765, 0.88235295, 0.        ],\n",
              "       [0.38431373, 0.9137255 , 0.7764706 , 0.8235294 , 0.87058824,\n",
              "        0.8980392 , 0.8980392 , 0.91764706, 0.9764706 , 0.8627451 ,\n",
              "        0.7607843 , 0.84313726, 0.8509804 , 0.94509804, 0.25490198,\n",
              "        0.28627452, 0.41568628, 0.45882353, 0.65882355, 0.85882354,\n",
              "        0.8666667 , 0.84313726, 0.8509804 , 0.8745098 , 0.8745098 ,\n",
              "        0.8784314 , 0.8980392 , 0.11372549],\n",
              "       [0.29411766, 0.8       , 0.83137256, 0.8       , 0.75686276,\n",
              "        0.8039216 , 0.827451  , 0.88235295, 0.84705883, 0.7254902 ,\n",
              "        0.77254903, 0.80784315, 0.7764706 , 0.8352941 , 0.9411765 ,\n",
              "        0.7647059 , 0.8901961 , 0.9607843 , 0.9372549 , 0.8745098 ,\n",
              "        0.85490197, 0.83137256, 0.81960785, 0.87058824, 0.8627451 ,\n",
              "        0.8666667 , 0.9019608 , 0.2627451 ],\n",
              "       [0.1882353 , 0.79607844, 0.7176471 , 0.7607843 , 0.8352941 ,\n",
              "        0.77254903, 0.7254902 , 0.74509805, 0.7607843 , 0.7529412 ,\n",
              "        0.7921569 , 0.8392157 , 0.85882354, 0.8666667 , 0.8627451 ,\n",
              "        0.9254902 , 0.88235295, 0.84705883, 0.78039217, 0.80784315,\n",
              "        0.7294118 , 0.70980394, 0.69411767, 0.6745098 , 0.70980394,\n",
              "        0.8039216 , 0.80784315, 0.4509804 ],\n",
              "       [0.        , 0.47843137, 0.85882354, 0.75686276, 0.7019608 ,\n",
              "        0.67058825, 0.7176471 , 0.76862746, 0.8       , 0.8235294 ,\n",
              "        0.8352941 , 0.8117647 , 0.827451  , 0.8235294 , 0.78431374,\n",
              "        0.76862746, 0.7607843 , 0.7490196 , 0.7647059 , 0.7490196 ,\n",
              "        0.7764706 , 0.7529412 , 0.6901961 , 0.6117647 , 0.654902  ,\n",
              "        0.69411767, 0.8235294 , 0.36078432],\n",
              "       [0.        , 0.        , 0.2901961 , 0.7411765 , 0.83137256,\n",
              "        0.7490196 , 0.6862745 , 0.6745098 , 0.6862745 , 0.70980394,\n",
              "        0.7254902 , 0.7372549 , 0.7411765 , 0.7372549 , 0.75686276,\n",
              "        0.7764706 , 0.8       , 0.81960785, 0.8235294 , 0.8235294 ,\n",
              "        0.827451  , 0.7372549 , 0.7372549 , 0.7607843 , 0.7529412 ,\n",
              "        0.84705883, 0.6666667 , 0.        ],\n",
              "       [0.00784314, 0.        , 0.        , 0.        , 0.25882354,\n",
              "        0.78431374, 0.87058824, 0.92941177, 0.9372549 , 0.9490196 ,\n",
              "        0.9647059 , 0.9529412 , 0.95686275, 0.8666667 , 0.8627451 ,\n",
              "        0.75686276, 0.7490196 , 0.7019608 , 0.7137255 , 0.7137255 ,\n",
              "        0.70980394, 0.6901961 , 0.6509804 , 0.65882355, 0.3882353 ,\n",
              "        0.22745098, 0.        , 0.        ],\n",
              "       [0.        , 0.        , 0.        , 0.        , 0.        ,\n",
              "        0.        , 0.        , 0.15686275, 0.23921569, 0.17254902,\n",
              "        0.28235295, 0.16078432, 0.13725491, 0.        , 0.        ,\n",
              "        0.        , 0.        , 0.        , 0.        , 0.        ,\n",
              "        0.        , 0.        , 0.        , 0.        , 0.        ,\n",
              "        0.        , 0.        , 0.        ],\n",
              "       [0.        , 0.        , 0.        , 0.        , 0.        ,\n",
              "        0.        , 0.        , 0.        , 0.        , 0.        ,\n",
              "        0.        , 0.        , 0.        , 0.        , 0.        ,\n",
              "        0.        , 0.        , 0.        , 0.        , 0.        ,\n",
              "        0.        , 0.        , 0.        , 0.        , 0.        ,\n",
              "        0.        , 0.        , 0.        ],\n",
              "       [0.        , 0.        , 0.        , 0.        , 0.        ,\n",
              "        0.        , 0.        , 0.        , 0.        , 0.        ,\n",
              "        0.        , 0.        , 0.        , 0.        , 0.        ,\n",
              "        0.        , 0.        , 0.        , 0.        , 0.        ,\n",
              "        0.        , 0.        , 0.        , 0.        , 0.        ,\n",
              "        0.        , 0.        , 0.        ]], dtype=float32)"
            ]
          },
          "metadata": {
            "tags": []
          },
          "execution_count": 14
        }
      ]
    },
    {
      "cell_type": "code",
      "metadata": {
        "id": "xZSxHXlH6-HN",
        "colab": {
          "base_uri": "https://localhost:8080/",
          "height": 281
        },
        "outputId": "ff3ebcd3-0edf-4053-e5ed-64a2ff487dcb"
      },
      "source": [
        "plt.imshow(np.reshape(x_train[1], (28,28)), cmap='gray')\n",
        "plt.title('Label: %i' %y_train[1])\n",
        "plt.show()"
      ],
      "execution_count": null,
      "outputs": [
        {
          "output_type": "display_data",
          "data": {
            "image/png": "[encoded data removed]",
            "text/plain": [
              "<Figure size 432x288 with 1 Axes>"
            ]
          },
          "metadata": {
            "tags": [],
            "needs_background": "light"
          }
        }
      ]
    },
    {
      "cell_type": "markdown",
      "metadata": {
        "id": "P5saei3z7fZ_"
      },
      "source": [
        "**Image Transformation**"
      ]
    },
    {
      "cell_type": "code",
      "metadata": {
        "id": "hcm-56hh7Ckn"
      },
      "source": [
        "image_height = 28\n",
        "image_width = 28\n",
        "\n",
        "# Grayscale image with num_channels (Rank =1)\n",
        "num_channels =1\n",
        "\n",
        "# Reshaping of Image = (60000, 28, 28, 1)\n",
        "train_digits = np.reshape(x_train, newshape=(60000, image_height, image_width, num_channels))"
      ],
      "execution_count": null,
      "outputs": []
    },
    {
      "cell_type": "code",
      "metadata": {
        "id": "4P8-mVb_78z3"
      },
      "source": [
        "test_digits = np.reshape(x_test, newshape=(10000, image_height, image_width, num_channels))"
      ],
      "execution_count": null,
      "outputs": []
    },
    {
      "cell_type": "markdown",
      "metadata": {
        "id": "TDSlzmor9X87"
      },
      "source": [
        "**Target O/P to categorical O/P**"
      ]
    },
    {
      "cell_type": "code",
      "metadata": {
        "id": "sYq48M9b8ece"
      },
      "source": [
        "# 0-9 num_classes = 10\n",
        "# 7 = [0,0,0,0,0,0,0,1,0,0]\n",
        "# 5 = [0,0,0,0,0,1,0,0,0,0]\n",
        "from keras.utils import to_categorical\n",
        "num_classes = 10\n",
        "train_labels_class = to_categorical(y_train, num_classes)"
      ],
      "execution_count": null,
      "outputs": []
    },
    {
      "cell_type": "code",
      "metadata": {
        "id": "cF_FYYGb99iX"
      },
      "source": [
        "test_labels_class = to_categorical(y_test, num_classes)"
      ],
      "execution_count": null,
      "outputs": []
    },
    {
      "cell_type": "code",
      "metadata": {
        "id": "W4nue73i-Cpe",
        "colab": {
          "base_uri": "https://localhost:8080/",
          "height": 136
        },
        "outputId": "329e98ed-7138-4943-8075-926103e39af3"
      },
      "source": [
        "train_labels_class"
      ],
      "execution_count": null,
      "outputs": [
        {
          "output_type": "execute_result",
          "data": {
            "text/plain": [
              "array([[0., 0., 0., ..., 0., 0., 1.],\n",
              "       [1., 0., 0., ..., 0., 0., 0.],\n",
              "       [1., 0., 0., ..., 0., 0., 0.],\n",
              "       ...,\n",
              "       [0., 0., 0., ..., 0., 0., 0.],\n",
              "       [1., 0., 0., ..., 0., 0., 0.],\n",
              "       [0., 0., 0., ..., 0., 0., 0.]], dtype=float32)"
            ]
          },
          "metadata": {
            "tags": []
          },
          "execution_count": 20
        }
      ]
    },
    {
      "cell_type": "markdown",
      "metadata": {
        "id": "1bPa8wNn-66G"
      },
      "source": [
        "**CNN Model**"
      ]
    },
    {
      "cell_type": "code",
      "metadata": {
        "id": "H1QZCMI5-RfD"
      },
      "source": [
        "from keras.models import Sequential\n",
        "# Conv1D = CSV (ECG, Audio, Transmission Signals, CSV file), Conv2D & Conv3D (Image)\n",
        "from keras.layers import Conv2D, MaxPooling2D, Flatten, Dense\n",
        "from keras.optimizers import Adam "
      ],
      "execution_count": null,
      "outputs": []
    },
    {
      "cell_type": "code",
      "metadata": {
        "id": "uPabc1by_Ong"
      },
      "source": [
        "def build_model():\n",
        "  model = Sequential()\n",
        "\n",
        "  # Layer - I (Padding = 'same' --> zero padding)\n",
        "  model.add(Conv2D(filters = 32, kernel_size=(3,3), strides=(1,1), padding = 'same', activation='relu', \n",
        "                   input_shape = (image_height, image_width, num_channels)))\n",
        "  model.add(MaxPooling2D(pool_size=(2,2)))\n",
        "\n",
        "  model.add(Conv2D(filters = 64, kernel_size=(3,3), strides=(1,1), padding = 'same', activation='relu'))\n",
        "  model.add(MaxPooling2D(pool_size=(2,2)))\n",
        "\n",
        "  model.add(Conv2D(filters = 64, kernel_size=(3,3), strides=(1,1), padding = 'same', activation='relu'))\n",
        "  model.add(MaxPooling2D(pool_size=(2,2)))\n",
        "\n",
        "  # Flatten Matrix\n",
        "  model.add(Flatten())\n",
        "\n",
        "  # Fully Connected Layer\n",
        "  model.add(Dense(units=128, activation='relu'))\n",
        "\n",
        "  # Output Layer\n",
        "  model.add(Dense(units=10, activation='softmax'))\n",
        "\n",
        "  # Model Compile\n",
        "  optimizers = Adam(learning_rate=0.001)\n",
        "\n",
        "  # categorical_crossentropy - used for multiclass classification\n",
        "  model.compile(loss = 'categorical_crossentropy', optimizer = optimizers, metrics = ['accuracy'])\n",
        "  return model\n",
        "  \n"
      ],
      "execution_count": null,
      "outputs": []
    },
    {
      "cell_type": "code",
      "metadata": {
        "id": "UagLuacVAlU4",
        "colab": {
          "base_uri": "https://localhost:8080/",
          "height": 34
        },
        "outputId": "ae56f87d-1577-4566-e005-53a1083b35ee"
      },
      "source": [
        "train_digits.shape"
      ],
      "execution_count": null,
      "outputs": [
        {
          "output_type": "execute_result",
          "data": {
            "text/plain": [
              "(60000, 28, 28, 1)"
            ]
          },
          "metadata": {
            "tags": []
          },
          "execution_count": 23
        }
      ]
    },
    {
      "cell_type": "code",
      "metadata": {
        "id": "TQetniXbAqOW"
      },
      "source": [
        "model = build_model()"
      ],
      "execution_count": null,
      "outputs": []
    },
    {
      "cell_type": "code",
      "metadata": {
        "id": "xxe5iOAVcWaz",
        "colab": {
          "base_uri": "https://localhost:8080/",
          "height": 459
        },
        "outputId": "0aa6370d-77a2-4bae-b7b5-92635586553f"
      },
      "source": [
        "model.summary()\n"
      ],
      "execution_count": null,
      "outputs": [
        {
          "output_type": "stream",
          "text": [
            "Model: \"sequential\"\n",
            "_________________________________________________________________\n",
            "Layer (type)                 Output Shape              Param #   \n",
            "=================================================================\n",
            "conv2d (Conv2D)              (None, 28, 28, 32)        320       \n",
            "_________________________________________________________________\n",
            "max_pooling2d (MaxPooling2D) (None, 14, 14, 32)        0         \n",
            "_________________________________________________________________\n",
            "conv2d_1 (Conv2D)            (None, 14, 14, 64)        18496     \n",
            "_________________________________________________________________\n",
            "max_pooling2d_1 (MaxPooling2 (None, 7, 7, 64)          0         \n",
            "_________________________________________________________________\n",
            "conv2d_2 (Conv2D)            (None, 7, 7, 64)          36928     \n",
            "_________________________________________________________________\n",
            "max_pooling2d_2 (MaxPooling2 (None, 3, 3, 64)          0         \n",
            "_________________________________________________________________\n",
            "flatten (Flatten)            (None, 576)               0         \n",
            "_________________________________________________________________\n",
            "dense (Dense)                (None, 128)               73856     \n",
            "_________________________________________________________________\n",
            "dense_1 (Dense)              (None, 10)                1290      \n",
            "=================================================================\n",
            "Total params: 130,890\n",
            "Trainable params: 130,890\n",
            "Non-trainable params: 0\n",
            "_________________________________________________________________\n"
          ],
          "name": "stdout"
        }
      ]
    },
    {
      "cell_type": "code",
      "metadata": {
        "id": "9ow6jueacepD",
        "colab": {
          "base_uri": "https://localhost:8080/",
          "height": 411
        },
        "outputId": "226aa7df-5d10-43e2-9478-936bf80ad319"
      },
      "source": [
        "history = model.fit(train_digits, \n",
        "train_labels_class, epochs=11, batch_size=64, validation_split=0.1)"
      ],
      "execution_count": null,
      "outputs": [
        {
          "output_type": "stream",
          "text": [
            "Epoch 1/11\n",
            "844/844 [==============================] - 4s 5ms/step - loss: 0.5056 - accuracy: 0.8176 - val_loss: 0.3520 - val_accuracy: 0.8725\n",
            "Epoch 2/11\n",
            "844/844 [==============================] - 4s 5ms/step - loss: 0.3122 - accuracy: 0.8864 - val_loss: 0.2844 - val_accuracy: 0.8958\n",
            "Epoch 3/11\n",
            "844/844 [==============================] - 4s 5ms/step - loss: 0.2662 - accuracy: 0.9026 - val_loss: 0.2513 - val_accuracy: 0.9067\n",
            "Epoch 4/11\n",
            "844/844 [==============================] - 4s 5ms/step - loss: 0.2370 - accuracy: 0.9138 - val_loss: 0.2468 - val_accuracy: 0.9072\n",
            "Epoch 5/11\n",
            "844/844 [==============================] - 4s 5ms/step - loss: 0.2137 - accuracy: 0.9209 - val_loss: 0.2620 - val_accuracy: 0.9082\n",
            "Epoch 6/11\n",
            "844/844 [==============================] - 4s 5ms/step - loss: 0.1961 - accuracy: 0.9283 - val_loss: 0.2308 - val_accuracy: 0.9133\n",
            "Epoch 7/11\n",
            "844/844 [==============================] - 4s 5ms/step - loss: 0.1749 - accuracy: 0.9356 - val_loss: 0.2428 - val_accuracy: 0.9133\n",
            "Epoch 8/11\n",
            "844/844 [==============================] - 4s 5ms/step - loss: 0.1615 - accuracy: 0.9406 - val_loss: 0.2245 - val_accuracy: 0.9210\n",
            "Epoch 9/11\n",
            "844/844 [==============================] - 4s 5ms/step - loss: 0.1463 - accuracy: 0.9463 - val_loss: 0.2342 - val_accuracy: 0.9197\n",
            "Epoch 10/11\n",
            "844/844 [==============================] - 4s 5ms/step - loss: 0.1315 - accuracy: 0.9519 - val_loss: 0.2764 - val_accuracy: 0.9085\n",
            "Epoch 11/11\n",
            "844/844 [==============================] - 4s 5ms/step - loss: 0.1199 - accuracy: 0.9546 - val_loss: 0.2352 - val_accuracy: 0.9197\n"
          ],
          "name": "stdout"
        }
      ]
    },
    {
      "cell_type": "code",
      "metadata": {
        "id": "UhphX1sIc32_",
        "colab": {
          "base_uri": "https://localhost:8080/",
          "height": 71
        },
        "outputId": "554259df-79dd-4898-c78e-3fd3032a2152"
      },
      "source": [
        "model.evaluate(test_digits, test_labels_class)"
      ],
      "execution_count": null,
      "outputs": [
        {
          "output_type": "stream",
          "text": [
            "313/313 [==============================] - 1s 3ms/step - loss: 0.2650 - accuracy: 0.9105\n"
          ],
          "name": "stdout"
        },
        {
          "output_type": "execute_result",
          "data": {
            "text/plain": [
              "[0.26495566964149475, 0.9104999899864197]"
            ]
          },
          "metadata": {
            "tags": []
          },
          "execution_count": 28
        }
      ]
    },
    {
      "cell_type": "code",
      "metadata": {
        "id": "1DDUSUIOeCFM",
        "colab": {
          "base_uri": "https://localhost:8080/",
          "height": 284
        },
        "outputId": "83fcff26-636c-4265-f7aa-88716ad0055a"
      },
      "source": [
        "pd.DataFrame(history.history)[['accuracy', 'val_accuracy']].plot()"
      ],
      "execution_count": null,
      "outputs": [
        {
          "output_type": "execute_result",
          "data": {
            "text/plain": [
              "<matplotlib.axes._subplots.AxesSubplot at 0x7f6671dc7748>"
            ]
          },
          "metadata": {
            "tags": []
          },
          "execution_count": 29
        },
        {
          "output_type": "display_data",
          "data": {
            "image/png": "[encoded data removed]",
            "text/plain": [
              "<Figure size 432x288 with 1 Axes>"
            ]
          },
          "metadata": {
            "tags": [],
            "needs_background": "light"
          }
        }
      ]
    },
    {
      "cell_type": "markdown",
      "metadata": {
        "id": "UuL-9h_lj9T7"
      },
      "source": [
        "**CNN with dropout**\n",
        "To avoid overfitting of model\n"
      ]
    },
    {
      "cell_type": "code",
      "metadata": {
        "id": "bfoHJPFAj4IF"
      },
      "source": [
        "from keras.layers import Dropout"
      ],
      "execution_count": null,
      "outputs": []
    },
    {
      "cell_type": "code",
      "metadata": {
        "id": "tDksR4rOk7iz"
      },
      "source": [
        "def build_model():\n",
        "  model2 = Sequential()\n",
        "\n",
        "  # Layer - I (Padding = 'same' --> zero padding)\n",
        "  model2.add(Conv2D(filters = 32, kernel_size=(3,3), strides=(1,1), padding = 'same', activation='relu', \n",
        "                   input_shape = (image_height, image_width, num_channels)))\n",
        "  model2.add(MaxPooling2D(pool_size=(2,2)))\n",
        "  model2.add(Dropout(0.25))\n",
        "\n",
        "  model2.add(Conv2D(filters = 64, kernel_size=(3,3), strides=(1,1), padding = 'same', activation='relu'))\n",
        "  model2.add(MaxPooling2D(pool_size=(2,2)))\n",
        "  model2.add(Dropout(0.25))\n",
        "\n",
        "  model2.add(Conv2D(filters = 128, kernel_size=(3,3), strides=(1,1), padding = 'same', activation='relu'))\n",
        "  model2.add(MaxPooling2D(pool_size=(2,2)))\n",
        "  model2.add(Dropout(0.25))\n",
        "\n",
        "  # Flatten Matrix\n",
        "  model2.add(Flatten())\n",
        "  \n",
        "  # Fully Connected Layer\n",
        "  model2.add(Dense(units=128, activation='relu'))\n",
        "  model2.add(Dropout(0.30))\n",
        "\n",
        "  # Output Layer\n",
        "  model2.add(Dense(units=10, activation='softmax'))\n",
        "\n",
        "  # Model Compile\n",
        "  optimizers = Adam(learning_rate=0.001)\n",
        "\n",
        "  # categorical_crossentropy - used for multiclass classification\n",
        "  model2.compile(loss = 'categorical_crossentropy', optimizer = optimizers, metrics = ['accuracy'])\n",
        "  return model2\n",
        "  "
      ],
      "execution_count": null,
      "outputs": []
    },
    {
      "cell_type": "code",
      "metadata": {
        "id": "T1pEuGAEnhBT"
      },
      "source": [
        "\n",
        "model2 = build_model()\n",
        "  "
      ],
      "execution_count": null,
      "outputs": []
    },
    {
      "cell_type": "code",
      "metadata": {
        "id": "ZO3EyXxenjNC",
        "colab": {
          "base_uri": "https://localhost:8080/",
          "height": 595
        },
        "outputId": "754c139a-ece8-44ae-837b-ba5dc91eb5b9"
      },
      "source": [
        "model2.summary()\n"
      ],
      "execution_count": null,
      "outputs": [
        {
          "output_type": "stream",
          "text": [
            "Model: \"sequential_1\"\n",
            "_________________________________________________________________\n",
            "Layer (type)                 Output Shape              Param #   \n",
            "=================================================================\n",
            "conv2d_3 (Conv2D)            (None, 28, 28, 32)        320       \n",
            "_________________________________________________________________\n",
            "max_pooling2d_3 (MaxPooling2 (None, 14, 14, 32)        0         \n",
            "_________________________________________________________________\n",
            "dropout (Dropout)            (None, 14, 14, 32)        0         \n",
            "_________________________________________________________________\n",
            "conv2d_4 (Conv2D)            (None, 14, 14, 64)        18496     \n",
            "_________________________________________________________________\n",
            "max_pooling2d_4 (MaxPooling2 (None, 7, 7, 64)          0         \n",
            "_________________________________________________________________\n",
            "dropout_1 (Dropout)          (None, 7, 7, 64)          0         \n",
            "_________________________________________________________________\n",
            "conv2d_5 (Conv2D)            (None, 7, 7, 128)         73856     \n",
            "_________________________________________________________________\n",
            "max_pooling2d_5 (MaxPooling2 (None, 3, 3, 128)         0         \n",
            "_________________________________________________________________\n",
            "dropout_2 (Dropout)          (None, 3, 3, 128)         0         \n",
            "_________________________________________________________________\n",
            "flatten_1 (Flatten)          (None, 1152)              0         \n",
            "_________________________________________________________________\n",
            "dense_2 (Dense)              (None, 128)               147584    \n",
            "_________________________________________________________________\n",
            "dropout_3 (Dropout)          (None, 128)               0         \n",
            "_________________________________________________________________\n",
            "dense_3 (Dense)              (None, 10)                1290      \n",
            "=================================================================\n",
            "Total params: 241,546\n",
            "Trainable params: 241,546\n",
            "Non-trainable params: 0\n",
            "_________________________________________________________________\n"
          ],
          "name": "stdout"
        }
      ]
    },
    {
      "cell_type": "code",
      "metadata": {
        "id": "07vbsopdntK-",
        "colab": {
          "base_uri": "https://localhost:8080/",
          "height": 1000
        },
        "outputId": "474d9d6d-886f-4258-f5ee-2a5cf54fee80"
      },
      "source": [
        "results = model2.fit(train_digits, train_labels_class, epochs=50, batch_size=64, validation_split=0.1)\n",
        "  "
      ],
      "execution_count": null,
      "outputs": [
        {
          "output_type": "stream",
          "text": [
            "Epoch 1/50\n",
            "844/844 [==============================] - 5s 6ms/step - loss: 0.6460 - accuracy: 0.7591 - val_loss: 0.3697 - val_accuracy: 0.8627\n",
            "Epoch 2/50\n",
            "844/844 [==============================] - 5s 5ms/step - loss: 0.3990 - accuracy: 0.8551 - val_loss: 0.3194 - val_accuracy: 0.8813\n",
            "Epoch 3/50\n",
            "844/844 [==============================] - 5s 5ms/step - loss: 0.3440 - accuracy: 0.8734 - val_loss: 0.2807 - val_accuracy: 0.8933\n",
            "Epoch 4/50\n",
            "844/844 [==============================] - 5s 5ms/step - loss: 0.3126 - accuracy: 0.8863 - val_loss: 0.2523 - val_accuracy: 0.9032\n",
            "Epoch 5/50\n",
            "844/844 [==============================] - 5s 5ms/step - loss: 0.2919 - accuracy: 0.8941 - val_loss: 0.2539 - val_accuracy: 0.9062\n",
            "Epoch 6/50\n",
            "844/844 [==============================] - 4s 5ms/step - loss: 0.2765 - accuracy: 0.8988 - val_loss: 0.2450 - val_accuracy: 0.9088\n",
            "Epoch 7/50\n",
            "844/844 [==============================] - 4s 5ms/step - loss: 0.2644 - accuracy: 0.9037 - val_loss: 0.2288 - val_accuracy: 0.9187\n",
            "Epoch 8/50\n",
            "844/844 [==============================] - 4s 5ms/step - loss: 0.2524 - accuracy: 0.9069 - val_loss: 0.2179 - val_accuracy: 0.9188\n",
            "Epoch 9/50\n",
            "844/844 [==============================] - 4s 5ms/step - loss: 0.2448 - accuracy: 0.9087 - val_loss: 0.2179 - val_accuracy: 0.9175\n",
            "Epoch 10/50\n",
            "844/844 [==============================] - 5s 5ms/step - loss: 0.2359 - accuracy: 0.9123 - val_loss: 0.2200 - val_accuracy: 0.9160\n",
            "Epoch 11/50\n",
            "844/844 [==============================] - 4s 5ms/step - loss: 0.2300 - accuracy: 0.9133 - val_loss: 0.2210 - val_accuracy: 0.9163\n",
            "Epoch 12/50\n",
            "844/844 [==============================] - 4s 5ms/step - loss: 0.2270 - accuracy: 0.9161 - val_loss: 0.2088 - val_accuracy: 0.9253\n",
            "Epoch 13/50\n",
            "844/844 [==============================] - 4s 5ms/step - loss: 0.2233 - accuracy: 0.9177 - val_loss: 0.2089 - val_accuracy: 0.9188\n",
            "Epoch 14/50\n",
            "844/844 [==============================] - 4s 5ms/step - loss: 0.2173 - accuracy: 0.9194 - val_loss: 0.2057 - val_accuracy: 0.9212\n",
            "Epoch 15/50\n",
            "844/844 [==============================] - 4s 5ms/step - loss: 0.2127 - accuracy: 0.9202 - val_loss: 0.2081 - val_accuracy: 0.9215\n",
            "Epoch 16/50\n",
            "844/844 [==============================] - 5s 5ms/step - loss: 0.2089 - accuracy: 0.9216 - val_loss: 0.1928 - val_accuracy: 0.9277\n",
            "Epoch 17/50\n",
            "844/844 [==============================] - 4s 5ms/step - loss: 0.2066 - accuracy: 0.9232 - val_loss: 0.2080 - val_accuracy: 0.9213\n",
            "Epoch 18/50\n",
            "844/844 [==============================] - 5s 5ms/step - loss: 0.2014 - accuracy: 0.9246 - val_loss: 0.2050 - val_accuracy: 0.9228\n",
            "Epoch 19/50\n",
            "844/844 [==============================] - 4s 5ms/step - loss: 0.1988 - accuracy: 0.9249 - val_loss: 0.1992 - val_accuracy: 0.9248\n",
            "Epoch 20/50\n",
            "844/844 [==============================] - 4s 5ms/step - loss: 0.1954 - accuracy: 0.9271 - val_loss: 0.1946 - val_accuracy: 0.9305\n",
            "Epoch 21/50\n",
            "844/844 [==============================] - 4s 5ms/step - loss: 0.1939 - accuracy: 0.9278 - val_loss: 0.2014 - val_accuracy: 0.9275\n",
            "Epoch 22/50\n",
            "844/844 [==============================] - 5s 5ms/step - loss: 0.1899 - accuracy: 0.9283 - val_loss: 0.1984 - val_accuracy: 0.9297\n",
            "Epoch 23/50\n",
            "844/844 [==============================] - 5s 5ms/step - loss: 0.1917 - accuracy: 0.9290 - val_loss: 0.1921 - val_accuracy: 0.9330\n",
            "Epoch 24/50\n",
            "844/844 [==============================] - 4s 5ms/step - loss: 0.1888 - accuracy: 0.9298 - val_loss: 0.1997 - val_accuracy: 0.9307\n",
            "Epoch 25/50\n",
            "844/844 [==============================] - 4s 5ms/step - loss: 0.1880 - accuracy: 0.9292 - val_loss: 0.2063 - val_accuracy: 0.9208\n",
            "Epoch 26/50\n",
            "844/844 [==============================] - 4s 5ms/step - loss: 0.1849 - accuracy: 0.9302 - val_loss: 0.2050 - val_accuracy: 0.9248\n",
            "Epoch 27/50\n",
            "844/844 [==============================] - 4s 5ms/step - loss: 0.1830 - accuracy: 0.9307 - val_loss: 0.1919 - val_accuracy: 0.9275\n",
            "Epoch 28/50\n",
            "844/844 [==============================] - 4s 5ms/step - loss: 0.1805 - accuracy: 0.9318 - val_loss: 0.1922 - val_accuracy: 0.9267\n",
            "Epoch 29/50\n",
            "844/844 [==============================] - 4s 5ms/step - loss: 0.1770 - accuracy: 0.9333 - val_loss: 0.1956 - val_accuracy: 0.9267\n",
            "Epoch 30/50\n",
            "844/844 [==============================] - 4s 5ms/step - loss: 0.1767 - accuracy: 0.9324 - val_loss: 0.1989 - val_accuracy: 0.9298\n",
            "Epoch 31/50\n",
            "844/844 [==============================] - 5s 5ms/step - loss: 0.1795 - accuracy: 0.9321 - val_loss: 0.1884 - val_accuracy: 0.9300\n",
            "Epoch 32/50\n",
            "844/844 [==============================] - 4s 5ms/step - loss: 0.1748 - accuracy: 0.9338 - val_loss: 0.1919 - val_accuracy: 0.9303\n",
            "Epoch 33/50\n",
            "844/844 [==============================] - 5s 5ms/step - loss: 0.1737 - accuracy: 0.9336 - val_loss: 0.2044 - val_accuracy: 0.9285\n",
            "Epoch 34/50\n",
            "844/844 [==============================] - 5s 5ms/step - loss: 0.1702 - accuracy: 0.9361 - val_loss: 0.1966 - val_accuracy: 0.9320\n",
            "Epoch 35/50\n",
            "844/844 [==============================] - 5s 6ms/step - loss: 0.1765 - accuracy: 0.9340 - val_loss: 0.2038 - val_accuracy: 0.9267\n",
            "Epoch 36/50\n",
            "844/844 [==============================] - 5s 5ms/step - loss: 0.1706 - accuracy: 0.9347 - val_loss: 0.1900 - val_accuracy: 0.9312\n",
            "Epoch 37/50\n",
            "844/844 [==============================] - 4s 5ms/step - loss: 0.1742 - accuracy: 0.9343 - val_loss: 0.2024 - val_accuracy: 0.9287\n",
            "Epoch 38/50\n",
            "844/844 [==============================] - 5s 5ms/step - loss: 0.1727 - accuracy: 0.9349 - val_loss: 0.2152 - val_accuracy: 0.9232\n",
            "Epoch 39/50\n",
            "844/844 [==============================] - 4s 5ms/step - loss: 0.1667 - accuracy: 0.9364 - val_loss: 0.1957 - val_accuracy: 0.9310\n",
            "Epoch 40/50\n",
            "844/844 [==============================] - 4s 5ms/step - loss: 0.1682 - accuracy: 0.9359 - val_loss: 0.1975 - val_accuracy: 0.9312\n",
            "Epoch 41/50\n",
            "844/844 [==============================] - 4s 5ms/step - loss: 0.1635 - accuracy: 0.9371 - val_loss: 0.2115 - val_accuracy: 0.9250\n",
            "Epoch 42/50\n",
            "844/844 [==============================] - 4s 5ms/step - loss: 0.1664 - accuracy: 0.9368 - val_loss: 0.1922 - val_accuracy: 0.9302\n",
            "Epoch 43/50\n",
            "844/844 [==============================] - 4s 5ms/step - loss: 0.1639 - accuracy: 0.9379 - val_loss: 0.2026 - val_accuracy: 0.9288\n",
            "Epoch 44/50\n",
            "844/844 [==============================] - 5s 5ms/step - loss: 0.1645 - accuracy: 0.9378 - val_loss: 0.1921 - val_accuracy: 0.9320\n",
            "Epoch 45/50\n",
            "844/844 [==============================] - 4s 5ms/step - loss: 0.1665 - accuracy: 0.9374 - val_loss: 0.1954 - val_accuracy: 0.9318\n",
            "Epoch 46/50\n",
            "844/844 [==============================] - 4s 5ms/step - loss: 0.1604 - accuracy: 0.9384 - val_loss: 0.2051 - val_accuracy: 0.9295\n",
            "Epoch 47/50\n",
            "844/844 [==============================] - 4s 5ms/step - loss: 0.1599 - accuracy: 0.9387 - val_loss: 0.2053 - val_accuracy: 0.9262\n",
            "Epoch 48/50\n",
            "844/844 [==============================] - 5s 5ms/step - loss: 0.1598 - accuracy: 0.9388 - val_loss: 0.1924 - val_accuracy: 0.9340\n",
            "Epoch 49/50\n",
            "844/844 [==============================] - 4s 5ms/step - loss: 0.1582 - accuracy: 0.9401 - val_loss: 0.1927 - val_accuracy: 0.9348\n",
            "Epoch 50/50\n",
            "844/844 [==============================] - 5s 6ms/step - loss: 0.1614 - accuracy: 0.9384 - val_loss: 0.1939 - val_accuracy: 0.9345\n"
          ],
          "name": "stdout"
        }
      ]
    },
    {
      "cell_type": "code",
      "metadata": {
        "id": "Os5yzR3hnwJi",
        "colab": {
          "base_uri": "https://localhost:8080/",
          "height": 71
        },
        "outputId": "6532f161-719c-4d1c-ee5b-e2137439b906"
      },
      "source": [
        "\n",
        "model2.evaluate(test_digits, test_labels_class)\n",
        "  "
      ],
      "execution_count": null,
      "outputs": [
        {
          "output_type": "stream",
          "text": [
            "313/313 [==============================] - 1s 2ms/step - loss: 0.2158 - accuracy: 0.9295\n"
          ],
          "name": "stdout"
        },
        {
          "output_type": "execute_result",
          "data": {
            "text/plain": [
              "[0.21583549678325653, 0.9294999837875366]"
            ]
          },
          "metadata": {
            "tags": []
          },
          "execution_count": 37
        }
      ]
    },
    {
      "cell_type": "code",
      "metadata": {
        "id": "-FCdfNV9nz--",
        "colab": {
          "base_uri": "https://localhost:8080/",
          "height": 1000
        },
        "outputId": "e3e69fb2-1294-492b-b2bc-8aa21db45f6b"
      },
      "source": [
        "\n",
        "pd.DataFrame(results.history) \n",
        "  "
      ],
      "execution_count": null,
      "outputs": [
        {
          "output_type": "execute_result",
          "data": {
            "text/html": [
              "<div>\n",
              "<style scoped>\n",
              "    .dataframe tbody tr th:only-of-type {\n",
              "        vertical-align: middle;\n",
              "    }\n",
              "\n",
              "    .dataframe tbody tr th {\n",
              "        vertical-align: top;\n",
              "    }\n",
              "\n",
              "    .dataframe thead th {\n",
              "        text-align: right;\n",
              "    }\n",
              "</style>\n",
              "<table border=\"1\" class=\"dataframe\">\n",
              "  <thead>\n",
              "    <tr style=\"text-align: right;\">\n",
              "      <th></th>\n",
              "      <th>loss</th>\n",
              "      <th>accuracy</th>\n",
              "      <th>val_loss</th>\n",
              "      <th>val_accuracy</th>\n",
              "    </tr>\n",
              "  </thead>\n",
              "  <tbody>\n",
              "    <tr>\n",
              "      <th>0</th>\n",
              "      <td>0.646019</td>\n",
              "      <td>0.759093</td>\n",
              "      <td>0.369715</td>\n",
              "      <td>0.862667</td>\n",
              "    </tr>\n",
              "    <tr>\n",
              "      <th>1</th>\n",
              "      <td>0.398957</td>\n",
              "      <td>0.855111</td>\n",
              "      <td>0.319392</td>\n",
              "      <td>0.881333</td>\n",
              "    </tr>\n",
              "    <tr>\n",
              "      <th>2</th>\n",
              "      <td>0.344020</td>\n",
              "      <td>0.873370</td>\n",
              "      <td>0.280699</td>\n",
              "      <td>0.893333</td>\n",
              "    </tr>\n",
              "    <tr>\n",
              "      <th>3</th>\n",
              "      <td>0.312597</td>\n",
              "      <td>0.886315</td>\n",
              "      <td>0.252283</td>\n",
              "      <td>0.903167</td>\n",
              "    </tr>\n",
              "    <tr>\n",
              "      <th>4</th>\n",
              "      <td>0.291908</td>\n",
              "      <td>0.894074</td>\n",
              "      <td>0.253872</td>\n",
              "      <td>0.906167</td>\n",
              "    </tr>\n",
              "    <tr>\n",
              "      <th>5</th>\n",
              "      <td>0.276463</td>\n",
              "      <td>0.898796</td>\n",
              "      <td>0.245015</td>\n",
              "      <td>0.908833</td>\n",
              "    </tr>\n",
              "    <tr>\n",
              "      <th>6</th>\n",
              "      <td>0.264353</td>\n",
              "      <td>0.903667</td>\n",
              "      <td>0.228765</td>\n",
              "      <td>0.918667</td>\n",
              "    </tr>\n",
              "    <tr>\n",
              "      <th>7</th>\n",
              "      <td>0.252411</td>\n",
              "      <td>0.906852</td>\n",
              "      <td>0.217927</td>\n",
              "      <td>0.918833</td>\n",
              "    </tr>\n",
              "    <tr>\n",
              "      <th>8</th>\n",
              "      <td>0.244843</td>\n",
              "      <td>0.908704</td>\n",
              "      <td>0.217913</td>\n",
              "      <td>0.917500</td>\n",
              "    </tr>\n",
              "    <tr>\n",
              "      <th>9</th>\n",
              "      <td>0.235896</td>\n",
              "      <td>0.912259</td>\n",
              "      <td>0.220026</td>\n",
              "      <td>0.916000</td>\n",
              "    </tr>\n",
              "    <tr>\n",
              "      <th>10</th>\n",
              "      <td>0.230041</td>\n",
              "      <td>0.913315</td>\n",
              "      <td>0.221006</td>\n",
              "      <td>0.916333</td>\n",
              "    </tr>\n",
              "    <tr>\n",
              "      <th>11</th>\n",
              "      <td>0.227001</td>\n",
              "      <td>0.916148</td>\n",
              "      <td>0.208803</td>\n",
              "      <td>0.925333</td>\n",
              "    </tr>\n",
              "    <tr>\n",
              "      <th>12</th>\n",
              "      <td>0.223344</td>\n",
              "      <td>0.917704</td>\n",
              "      <td>0.208911</td>\n",
              "      <td>0.918833</td>\n",
              "    </tr>\n",
              "    <tr>\n",
              "      <th>13</th>\n",
              "      <td>0.217275</td>\n",
              "      <td>0.919407</td>\n",
              "      <td>0.205733</td>\n",
              "      <td>0.921167</td>\n",
              "    </tr>\n",
              "    <tr>\n",
              "      <th>14</th>\n",
              "      <td>0.212719</td>\n",
              "      <td>0.920185</td>\n",
              "      <td>0.208060</td>\n",
              "      <td>0.921500</td>\n",
              "    </tr>\n",
              "    <tr>\n",
              "      <th>15</th>\n",
              "      <td>0.208863</td>\n",
              "      <td>0.921574</td>\n",
              "      <td>0.192762</td>\n",
              "      <td>0.927667</td>\n",
              "    </tr>\n",
              "    <tr>\n",
              "      <th>16</th>\n",
              "      <td>0.206578</td>\n",
              "      <td>0.923241</td>\n",
              "      <td>0.208008</td>\n",
              "      <td>0.921333</td>\n",
              "    </tr>\n",
              "    <tr>\n",
              "      <th>17</th>\n",
              "      <td>0.201428</td>\n",
              "      <td>0.924556</td>\n",
              "      <td>0.205008</td>\n",
              "      <td>0.922833</td>\n",
              "    </tr>\n",
              "    <tr>\n",
              "      <th>18</th>\n",
              "      <td>0.198843</td>\n",
              "      <td>0.924944</td>\n",
              "      <td>0.199189</td>\n",
              "      <td>0.924833</td>\n",
              "    </tr>\n",
              "    <tr>\n",
              "      <th>19</th>\n",
              "      <td>0.195404</td>\n",
              "      <td>0.927148</td>\n",
              "      <td>0.194560</td>\n",
              "      <td>0.930500</td>\n",
              "    </tr>\n",
              "    <tr>\n",
              "      <th>20</th>\n",
              "      <td>0.193935</td>\n",
              "      <td>0.927759</td>\n",
              "      <td>0.201398</td>\n",
              "      <td>0.927500</td>\n",
              "    </tr>\n",
              "    <tr>\n",
              "      <th>21</th>\n",
              "      <td>0.189948</td>\n",
              "      <td>0.928278</td>\n",
              "      <td>0.198419</td>\n",
              "      <td>0.929667</td>\n",
              "    </tr>\n",
              "    <tr>\n",
              "      <th>22</th>\n",
              "      <td>0.191724</td>\n",
              "      <td>0.928981</td>\n",
              "      <td>0.192126</td>\n",
              "      <td>0.933000</td>\n",
              "    </tr>\n",
              "    <tr>\n",
              "      <th>23</th>\n",
              "      <td>0.188793</td>\n",
              "      <td>0.929796</td>\n",
              "      <td>0.199701</td>\n",
              "      <td>0.930667</td>\n",
              "    </tr>\n",
              "    <tr>\n",
              "      <th>24</th>\n",
              "      <td>0.188044</td>\n",
              "      <td>0.929204</td>\n",
              "      <td>0.206287</td>\n",
              "      <td>0.920833</td>\n",
              "    </tr>\n",
              "    <tr>\n",
              "      <th>25</th>\n",
              "      <td>0.184872</td>\n",
              "      <td>0.930222</td>\n",
              "      <td>0.205015</td>\n",
              "      <td>0.924833</td>\n",
              "    </tr>\n",
              "    <tr>\n",
              "      <th>26</th>\n",
              "      <td>0.182991</td>\n",
              "      <td>0.930704</td>\n",
              "      <td>0.191882</td>\n",
              "      <td>0.927500</td>\n",
              "    </tr>\n",
              "    <tr>\n",
              "      <th>27</th>\n",
              "      <td>0.180513</td>\n",
              "      <td>0.931778</td>\n",
              "      <td>0.192203</td>\n",
              "      <td>0.926667</td>\n",
              "    </tr>\n",
              "    <tr>\n",
              "      <th>28</th>\n",
              "      <td>0.177044</td>\n",
              "      <td>0.933278</td>\n",
              "      <td>0.195563</td>\n",
              "      <td>0.926667</td>\n",
              "    </tr>\n",
              "    <tr>\n",
              "      <th>29</th>\n",
              "      <td>0.176684</td>\n",
              "      <td>0.932389</td>\n",
              "      <td>0.198920</td>\n",
              "      <td>0.929833</td>\n",
              "    </tr>\n",
              "    <tr>\n",
              "      <th>30</th>\n",
              "      <td>0.179494</td>\n",
              "      <td>0.932074</td>\n",
              "      <td>0.188439</td>\n",
              "      <td>0.930000</td>\n",
              "    </tr>\n",
              "    <tr>\n",
              "      <th>31</th>\n",
              "      <td>0.174789</td>\n",
              "      <td>0.933796</td>\n",
              "      <td>0.191871</td>\n",
              "      <td>0.930333</td>\n",
              "    </tr>\n",
              "    <tr>\n",
              "      <th>32</th>\n",
              "      <td>0.173653</td>\n",
              "      <td>0.933648</td>\n",
              "      <td>0.204436</td>\n",
              "      <td>0.928500</td>\n",
              "    </tr>\n",
              "    <tr>\n",
              "      <th>33</th>\n",
              "      <td>0.170241</td>\n",
              "      <td>0.936111</td>\n",
              "      <td>0.196572</td>\n",
              "      <td>0.932000</td>\n",
              "    </tr>\n",
              "    <tr>\n",
              "      <th>34</th>\n",
              "      <td>0.176496</td>\n",
              "      <td>0.934018</td>\n",
              "      <td>0.203807</td>\n",
              "      <td>0.926667</td>\n",
              "    </tr>\n",
              "    <tr>\n",
              "      <th>35</th>\n",
              "      <td>0.170649</td>\n",
              "      <td>0.934741</td>\n",
              "      <td>0.190006</td>\n",
              "      <td>0.931167</td>\n",
              "    </tr>\n",
              "    <tr>\n",
              "      <th>36</th>\n",
              "      <td>0.174201</td>\n",
              "      <td>0.934278</td>\n",
              "      <td>0.202372</td>\n",
              "      <td>0.928667</td>\n",
              "    </tr>\n",
              "    <tr>\n",
              "      <th>37</th>\n",
              "      <td>0.172726</td>\n",
              "      <td>0.934907</td>\n",
              "      <td>0.215240</td>\n",
              "      <td>0.923167</td>\n",
              "    </tr>\n",
              "    <tr>\n",
              "      <th>38</th>\n",
              "      <td>0.166703</td>\n",
              "      <td>0.936389</td>\n",
              "      <td>0.195727</td>\n",
              "      <td>0.931000</td>\n",
              "    </tr>\n",
              "    <tr>\n",
              "      <th>39</th>\n",
              "      <td>0.168229</td>\n",
              "      <td>0.935907</td>\n",
              "      <td>0.197500</td>\n",
              "      <td>0.931167</td>\n",
              "    </tr>\n",
              "    <tr>\n",
              "      <th>40</th>\n",
              "      <td>0.163504</td>\n",
              "      <td>0.937111</td>\n",
              "      <td>0.211474</td>\n",
              "      <td>0.925000</td>\n",
              "    </tr>\n",
              "    <tr>\n",
              "      <th>41</th>\n",
              "      <td>0.166417</td>\n",
              "      <td>0.936796</td>\n",
              "      <td>0.192229</td>\n",
              "      <td>0.930167</td>\n",
              "    </tr>\n",
              "    <tr>\n",
              "      <th>42</th>\n",
              "      <td>0.163932</td>\n",
              "      <td>0.937870</td>\n",
              "      <td>0.202648</td>\n",
              "      <td>0.928833</td>\n",
              "    </tr>\n",
              "    <tr>\n",
              "      <th>43</th>\n",
              "      <td>0.164480</td>\n",
              "      <td>0.937833</td>\n",
              "      <td>0.192114</td>\n",
              "      <td>0.932000</td>\n",
              "    </tr>\n",
              "    <tr>\n",
              "      <th>44</th>\n",
              "      <td>0.166527</td>\n",
              "      <td>0.937426</td>\n",
              "      <td>0.195424</td>\n",
              "      <td>0.931833</td>\n",
              "    </tr>\n",
              "    <tr>\n",
              "      <th>45</th>\n",
              "      <td>0.160425</td>\n",
              "      <td>0.938389</td>\n",
              "      <td>0.205138</td>\n",
              "      <td>0.929500</td>\n",
              "    </tr>\n",
              "    <tr>\n",
              "      <th>46</th>\n",
              "      <td>0.159903</td>\n",
              "      <td>0.938704</td>\n",
              "      <td>0.205340</td>\n",
              "      <td>0.926167</td>\n",
              "    </tr>\n",
              "    <tr>\n",
              "      <th>47</th>\n",
              "      <td>0.159766</td>\n",
              "      <td>0.938815</td>\n",
              "      <td>0.192450</td>\n",
              "      <td>0.934000</td>\n",
              "    </tr>\n",
              "    <tr>\n",
              "      <th>48</th>\n",
              "      <td>0.158180</td>\n",
              "      <td>0.940093</td>\n",
              "      <td>0.192676</td>\n",
              "      <td>0.934833</td>\n",
              "    </tr>\n",
              "    <tr>\n",
              "      <th>49</th>\n",
              "      <td>0.161433</td>\n",
              "      <td>0.938370</td>\n",
              "      <td>0.193937</td>\n",
              "      <td>0.934500</td>\n",
              "    </tr>\n",
              "  </tbody>\n",
              "</table>\n",
              "</div>"
            ],
            "text/plain": [
              "        loss  accuracy  val_loss  val_accuracy\n",
              "0   0.646019  0.759093  0.369715      0.862667\n",
              "1   0.398957  0.855111  0.319392      0.881333\n",
              "2   0.344020  0.873370  0.280699      0.893333\n",
              "3   0.312597  0.886315  0.252283      0.903167\n",
              "4   0.291908  0.894074  0.253872      0.906167\n",
              "5   0.276463  0.898796  0.245015      0.908833\n",
              "6   0.264353  0.903667  0.228765      0.918667\n",
              "7   0.252411  0.906852  0.217927      0.918833\n",
              "8   0.244843  0.908704  0.217913      0.917500\n",
              "9   0.235896  0.912259  0.220026      0.916000\n",
              "10  0.230041  0.913315  0.221006      0.916333\n",
              "11  0.227001  0.916148  0.208803      0.925333\n",
              "12  0.223344  0.917704  0.208911      0.918833\n",
              "13  0.217275  0.919407  0.205733      0.921167\n",
              "14  0.212719  0.920185  0.208060      0.921500\n",
              "15  0.208863  0.921574  0.192762      0.927667\n",
              "16  0.206578  0.923241  0.208008      0.921333\n",
              "17  0.201428  0.924556  0.205008      0.922833\n",
              "18  0.198843  0.924944  0.199189      0.924833\n",
              "19  0.195404  0.927148  0.194560      0.930500\n",
              "20  0.193935  0.927759  0.201398      0.927500\n",
              "21  0.189948  0.928278  0.198419      0.929667\n",
              "22  0.191724  0.928981  0.192126      0.933000\n",
              "23  0.188793  0.929796  0.199701      0.930667\n",
              "24  0.188044  0.929204  0.206287      0.920833\n",
              "25  0.184872  0.930222  0.205015      0.924833\n",
              "26  0.182991  0.930704  0.191882      0.927500\n",
              "27  0.180513  0.931778  0.192203      0.926667\n",
              "28  0.177044  0.933278  0.195563      0.926667\n",
              "29  0.176684  0.932389  0.198920      0.929833\n",
              "30  0.179494  0.932074  0.188439      0.930000\n",
              "31  0.174789  0.933796  0.191871      0.930333\n",
              "32  0.173653  0.933648  0.204436      0.928500\n",
              "33  0.170241  0.936111  0.196572      0.932000\n",
              "34  0.176496  0.934018  0.203807      0.926667\n",
              "35  0.170649  0.934741  0.190006      0.931167\n",
              "36  0.174201  0.934278  0.202372      0.928667\n",
              "37  0.172726  0.934907  0.215240      0.923167\n",
              "38  0.166703  0.936389  0.195727      0.931000\n",
              "39  0.168229  0.935907  0.197500      0.931167\n",
              "40  0.163504  0.937111  0.211474      0.925000\n",
              "41  0.166417  0.936796  0.192229      0.930167\n",
              "42  0.163932  0.937870  0.202648      0.928833\n",
              "43  0.164480  0.937833  0.192114      0.932000\n",
              "44  0.166527  0.937426  0.195424      0.931833\n",
              "45  0.160425  0.938389  0.205138      0.929500\n",
              "46  0.159903  0.938704  0.205340      0.926167\n",
              "47  0.159766  0.938815  0.192450      0.934000\n",
              "48  0.158180  0.940093  0.192676      0.934833\n",
              "49  0.161433  0.938370  0.193937      0.934500"
            ]
          },
          "metadata": {
            "tags": []
          },
          "execution_count": 38
        }
      ]
    },
    {
      "cell_type": "code",
      "metadata": {
        "id": "UKY8veInn2bV",
        "colab": {
          "base_uri": "https://localhost:8080/",
          "height": 282
        },
        "outputId": "843e7ddc-29bb-44ae-c4b0-eda3e8210f1e"
      },
      "source": [
        "\n",
        "pd.DataFrame(results.history)[['accuracy',  'val_accuracy']].plot()\n",
        "  "
      ],
      "execution_count": null,
      "outputs": [
        {
          "output_type": "execute_result",
          "data": {
            "text/plain": [
              "<matplotlib.axes._subplots.AxesSubplot at 0x7f668c705898>"
            ]
          },
          "metadata": {
            "tags": []
          },
          "execution_count": 39
        },
        {
          "output_type": "display_data",
          "data": {
            "image/png": "[encoded data removed]",
            "text/plain": [
              "<Figure size 432x288 with 1 Axes>"
            ]
          },
          "metadata": {
            "tags": [],
            "needs_background": "light"
          }
        }
      ]
    },
    {
      "cell_type": "code",
      "metadata": {
        "id": "mvygmrAcn5Bl",
        "colab": {
          "base_uri": "https://localhost:8080/",
          "height": 282
        },
        "outputId": "685054e1-ff3d-47cd-9b3d-8477980e9e47"
      },
      "source": [
        "pd.DataFrame(results.history)[['loss',  'val_loss']].plot()"
      ],
      "execution_count": null,
      "outputs": [
        {
          "output_type": "execute_result",
          "data": {
            "text/plain": [
              "<matplotlib.axes._subplots.AxesSubplot at 0x7f66f6953390>"
            ]
          },
          "metadata": {
            "tags": []
          },
          "execution_count": 40
        },
        {
          "output_type": "display_data",
          "data": {
            "image/png": "[encoded data removed]",
            "text/plain": [
              "<Figure size 432x288 with 1 Axes>"
            ]
          },
          "metadata": {
            "tags": [],
            "needs_background": "light"
          }
        }
      ]
    },
    {
      "cell_type": "code",
      "metadata": {
        "id": "DMG0ZRw-oC0D"
      },
      "source": [
        "predictions = model2.predict(test_digits)"
      ],
      "execution_count": null,
      "outputs": []
    },
    {
      "cell_type": "code",
      "metadata": {
        "id": "vo6jEg9so0iB"
      },
      "source": [
        "# Converts categorical o/p into integer o/p (argmax)\n",
        "yhat = np.argmax(predictions, axis=1)"
      ],
      "execution_count": null,
      "outputs": []
    },
    {
      "cell_type": "code",
      "metadata": {
        "id": "tT36ixBWpOHF",
        "colab": {
          "base_uri": "https://localhost:8080/",
          "height": 187
        },
        "outputId": "b95186f1-8a48-47b3-a110-580f27440dc3"
      },
      "source": [
        "from sklearn.metrics import confusion_matrix, classification_report\n",
        "confusion_matrix(y_test, yhat)"
      ],
      "execution_count": null,
      "outputs": [
        {
          "output_type": "execute_result",
          "data": {
            "text/plain": [
              "array([[887,   0,  17,  10,   1,   1,  81,   0,   3,   0],\n",
              "       [  0, 986,   0,   9,   1,   0,   2,   0,   2,   0],\n",
              "       [ 21,   1, 879,   5,  60,   0,  34,   0,   0,   0],\n",
              "       [ 11,   4,  10, 922,  27,   0,  25,   0,   1,   0],\n",
              "       [  1,   0,  30,  15, 913,   0,  41,   0,   0,   0],\n",
              "       [  0,   0,   0,   0,   0, 988,   0,   8,   1,   3],\n",
              "       [ 83,   3,  46,  19,  60,   0, 784,   0,   5,   0],\n",
              "       [  0,   0,   0,   0,   0,   3,   0, 981,   0,  16],\n",
              "       [  3,   1,   3,   2,   1,   2,   2,   1, 985,   0],\n",
              "       [  1,   0,   0,   0,   0,   4,   0,  25,   0, 970]])"
            ]
          },
          "metadata": {
            "tags": []
          },
          "execution_count": 60
        }
      ]
    },
    {
      "cell_type": "code",
      "metadata": {
        "id": "gG5TMgI4p49e",
        "colab": {
          "base_uri": "https://localhost:8080/",
          "height": 486
        },
        "outputId": "8ef21432-3212-4684-f6db-8add3c8d0404"
      },
      "source": [
        "plt.figure(figsize=(12,8))\n",
        "sns.heatmap(confusion_matrix(y_test, yhat), annot=True, fmt='0.0f')"
      ],
      "execution_count": null,
      "outputs": [
        {
          "output_type": "execute_result",
          "data": {
            "text/plain": [
              "<matplotlib.axes._subplots.AxesSubplot at 0x7f666ad84320>"
            ]
          },
          "metadata": {
            "tags": []
          },
          "execution_count": 61
        },
        {
          "output_type": "display_data",
          "data": {
            "image/png": "[encoded data removed]",
            "text/plain": [
              "<Figure size 864x576 with 2 Axes>"
            ]
          },
          "metadata": {
            "tags": [],
            "needs_background": "light"
          }
        }
      ]
    },
    {
      "cell_type": "code",
      "metadata": {
        "id": "ywj-L77ZtZKZ"
      },
      "source": [
        "yhat = np.argmax(model2.predict(np.reshape(test_digits[4],(1,28,28,1))))"
      ],
      "execution_count": null,
      "outputs": []
    },
    {
      "cell_type": "code",
      "metadata": {
        "id": "ELs2U545qOx1",
        "colab": {
          "base_uri": "https://localhost:8080/",
          "height": 281
        },
        "outputId": "201e32f3-9ee1-49fc-8dc7-88de52f8f456"
      },
      "source": [
        "plt.imshow(np.reshape(test_digits[0], (28,28)), cmap='gray')\n",
        "plt.title('Label: %i predictions: %i' %(y_train[1], yhat))\n",
        "plt.show()"
      ],
      "execution_count": null,
      "outputs": [
        {
          "output_type": "display_data",
          "data": {
            "image/png": "[encoded data removed]",
            "text/plain": [
              "<Figure size 432x288 with 1 Axes>"
            ]
          },
          "metadata": {
            "tags": [],
            "needs_background": "light"
          }
        }
      ]
    },
    {
      "cell_type": "markdown",
      "metadata": {
        "id": "H7drH7rNwPjL"
      },
      "source": [
        "**Make Predictions with new Image**"
      ]
    },
    {
      "cell_type": "code",
      "metadata": {
        "id": "dvCI7-EJtzg9"
      },
      "source": [
        "import cv2"
      ],
      "execution_count": null,
      "outputs": []
    },
    {
      "cell_type": "code",
      "metadata": {
        "id": "dLdz1WcCwUX9"
      },
      "source": [
        "img = cv2.imread('/content/T-Shirt Sample.png', 0)"
      ],
      "execution_count": null,
      "outputs": []
    },
    {
      "cell_type": "code",
      "metadata": {
        "id": "zqsHmbYBwiOS",
        "colab": {
          "base_uri": "https://localhost:8080/",
          "height": 34
        },
        "outputId": "05d6efa8-c7da-4507-ef4e-41850fb23160"
      },
      "source": [
        "img.shape"
      ],
      "execution_count": null,
      "outputs": [
        {
          "output_type": "execute_result",
          "data": {
            "text/plain": [
              "(974, 860)"
            ]
          },
          "metadata": {
            "tags": []
          },
          "execution_count": 68
        }
      ]
    },
    {
      "cell_type": "code",
      "metadata": {
        "id": "0xwdBFjAwlEr",
        "colab": {
          "base_uri": "https://localhost:8080/",
          "height": 34
        },
        "outputId": "abcbdb54-279c-4022-c610-eaf0aaf2a811"
      },
      "source": [
        "test_digits.shape"
      ],
      "execution_count": null,
      "outputs": [
        {
          "output_type": "execute_result",
          "data": {
            "text/plain": [
              "(10000, 28, 28, 1)"
            ]
          },
          "metadata": {
            "tags": []
          },
          "execution_count": 69
        }
      ]
    },
    {
      "cell_type": "code",
      "metadata": {
        "id": "EA9lnNY8wn9K"
      },
      "source": [
        "img_data = cv2.resize(img, (28,28))"
      ],
      "execution_count": null,
      "outputs": []
    },
    {
      "cell_type": "code",
      "metadata": {
        "id": "ECT780Vyw0FF",
        "colab": {
          "base_uri": "https://localhost:8080/",
          "height": 282
        },
        "outputId": "64b87ce5-d35b-46be-9a2a-f96c842b4af8"
      },
      "source": [
        "plt.imshow(img_data, cmap='gray')"
      ],
      "execution_count": null,
      "outputs": [
        {
          "output_type": "execute_result",
          "data": {
            "text/plain": [
              "<matplotlib.image.AxesImage at 0x7f666126ea90>"
            ]
          },
          "metadata": {
            "tags": []
          },
          "execution_count": 72
        },
        {
          "output_type": "display_data",
          "data": {
            "image/png": "[encoded data removed]",
            "text/plain": [
              "<Figure size 432x288 with 1 Axes>"
            ]
          },
          "metadata": {
            "tags": [],
            "needs_background": "light"
          }
        }
      ]
    },
    {
      "cell_type": "code",
      "metadata": {
        "id": "Qo9GFlhuw5jZ"
      },
      "source": [
        "img_data = cv2.bitwise_not(img_data)"
      ],
      "execution_count": null,
      "outputs": []
    },
    {
      "cell_type": "code",
      "metadata": {
        "id": "qPRbuul0xSIx",
        "colab": {
          "base_uri": "https://localhost:8080/",
          "height": 282
        },
        "outputId": "9ff83950-f762-4c66-87a8-4f4c03473813"
      },
      "source": [
        "plt.imshow(img_data, cmap='gray')"
      ],
      "execution_count": null,
      "outputs": [
        {
          "output_type": "execute_result",
          "data": {
            "text/plain": [
              "<matplotlib.image.AxesImage at 0x7f6661249550>"
            ]
          },
          "metadata": {
            "tags": []
          },
          "execution_count": 74
        },
        {
          "output_type": "display_data",
          "data": {
            "image/png": "[encoded data removed]",
            "text/plain": [
              "<Figure size 432x288 with 1 Axes>"
            ]
          },
          "metadata": {
            "tags": [],
            "needs_background": "light"
          }
        }
      ]
    },
    {
      "cell_type": "code",
      "metadata": {
        "id": "2tY6-DhdxUhL"
      },
      "source": [
        "img_new = np.reshape(img_data, (1, image_height,image_width, num_channels))"
      ],
      "execution_count": null,
      "outputs": []
    },
    {
      "cell_type": "code",
      "metadata": {
        "id": "5ukjx4l4yHNY",
        "colab": {
          "base_uri": "https://localhost:8080/",
          "height": 34
        },
        "outputId": "dcdbf8ba-7aa2-469a-94d8-9dd71868995c"
      },
      "source": [
        "img_new.shape"
      ],
      "execution_count": null,
      "outputs": [
        {
          "output_type": "execute_result",
          "data": {
            "text/plain": [
              "(1, 28, 28, 1)"
            ]
          },
          "metadata": {
            "tags": []
          },
          "execution_count": 76
        }
      ]
    },
    {
      "cell_type": "code",
      "metadata": {
        "id": "969hQdfZyJTC",
        "colab": {
          "base_uri": "https://localhost:8080/",
          "height": 34
        },
        "outputId": "e43caa4b-2238-4757-efc5-766681912e17"
      },
      "source": [
        "model.predict(img_new)"
      ],
      "execution_count": null,
      "outputs": [
        {
          "output_type": "execute_result",
          "data": {
            "text/plain": [
              "array([[1., 0., 0., 0., 0., 0., 0., 0., 0., 0.]], dtype=float32)"
            ]
          },
          "metadata": {
            "tags": []
          },
          "execution_count": 77
        }
      ]
    },
    {
      "cell_type": "code",
      "metadata": {
        "id": "i3_vBTgSyMNa",
        "colab": {
          "base_uri": "https://localhost:8080/",
          "height": 34
        },
        "outputId": "21d0b9f5-7849-40f3-9584-f61be507463b"
      },
      "source": [
        "np.argmax(model.predict(img_new))"
      ],
      "execution_count": null,
      "outputs": [
        {
          "output_type": "execute_result",
          "data": {
            "text/plain": [
              "0"
            ]
          },
          "metadata": {
            "tags": []
          },
          "execution_count": 78
        }
      ]
    },
    {
      "cell_type": "code",
      "metadata": {
        "id": "eNbKjYN8yecC"
      },
      "source": [
        ""
      ],
      "execution_count": null,
      "outputs": []
    }
  ]
}
